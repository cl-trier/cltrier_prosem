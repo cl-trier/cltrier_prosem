{
 "cells": [
  {
   "cell_type": "code",
   "execution_count": 3,
   "id": "initial_id",
   "metadata": {
    "collapsed": true,
    "ExecuteTime": {
     "end_time": "2024-02-01T15:09:33.017665Z",
     "start_time": "2024-02-01T15:09:32.979874Z"
    }
   },
   "outputs": [],
   "source": [
    "import pandas as pd\n",
    "import ast"
   ]
  },
  {
   "cell_type": "code",
   "execution_count": 4,
   "outputs": [],
   "source": [
    "RAW_DATA_PATH: str = 'data/dataset.raw.csv'\n",
    "EXPORTED_DATA_PATH: str = 'data/dataset'\n",
    "\n",
    "SAMPLE_SIZE: int = 1000\n",
    "TRAIN_SPLIT: float = 0.8\n",
    "RANDOM_STATE: int = 42"
   ],
   "metadata": {
    "collapsed": false,
    "ExecuteTime": {
     "end_time": "2024-02-01T15:09:33.344144Z",
     "start_time": "2024-02-01T15:09:33.307911Z"
    }
   },
   "id": "27616bcd6b21adc3"
  },
  {
   "cell_type": "code",
   "execution_count": 5,
   "outputs": [
    {
     "data": {
      "text/plain": "                                                                                   text  \\\nidx                                                                                       \na692168b-ae0c-4641-9997-6cc7e0471aba                         Masken im Flüchtlingslager   \nf7d4a734-d40a-4264-98ff-8ff7216c7097  Star Wars Masken Basteln Vorlagen Star Wars Ma...   \nb4ec27ff-d36f-44e2-8619-d0e383d054b3  Ganz frisch aus der Recherche, möchte ich hier...   \n2801fbec-6f32-40ed-8128-a7ca642d425f  Mareo öffnete die Augen und sah eine Gestalt d...   \n85617ff0-a3a2-4318-a780-a061935944d1  „85 Prozent der Menschen, die eine Maske trage...   \n...                                                                                 ...   \n0edcbda2-20dc-419b-b6c2-9011563fbfab  Sie holt mich von der Arbeit ab, wir fahren zu...   \nf9b88985-e57a-4cce-866c-fab8fe6c6b4e  ( Empfehlung: Hals Decollte, bei Stauungen Lym...   \n19a0eb4f-f831-494c-b306-8e7cdf9a5d6f  Die Polizeisprecherin sagte, wenn die Abstands...   \n5eaf7be6-58bd-4204-b425-efa1ea671073  Was mich am meisten beindruckte, war seine Beo...   \n260af094-9d26-44ac-9ff0-2e860ed01739  Das enthaltene Vitamin C garantiert den Zellen...   \n\n                                       label        span  \nidx                                                       \na692168b-ae0c-4641-9997-6cc7e0471aba  corona      [0, 5]  \nf7d4a734-d40a-4264-98ff-8ff7216c7097    web1    [10, 15]  \nb4ec27ff-d36f-44e2-8619-d0e383d054b3    web1    [91, 96]  \n2801fbec-6f32-40ed-8128-a7ca642d425f    web2    [63, 68]  \n85617ff0-a3a2-4318-a780-a061935944d1  corona    [35, 40]  \n...                                      ...         ...  \n0edcbda2-20dc-419b-b6c2-9011563fbfab  corona    [79, 84]  \nf9b88985-e57a-4cce-866c-fab8fe6c6b4e    web2    [82, 87]  \n19a0eb4f-f831-494c-b306-8e7cdf9a5d6f  corona    [91, 96]  \n5eaf7be6-58bd-4204-b425-efa1ea671073    web1  [127, 132]  \n260af094-9d26-44ac-9ff0-2e860ed01739    web1  [108, 113]  \n\n[1000 rows x 3 columns]",
      "text/html": "<div>\n<style scoped>\n    .dataframe tbody tr th:only-of-type {\n        vertical-align: middle;\n    }\n\n    .dataframe tbody tr th {\n        vertical-align: top;\n    }\n\n    .dataframe thead th {\n        text-align: right;\n    }\n</style>\n<table border=\"1\" class=\"dataframe\">\n  <thead>\n    <tr style=\"text-align: right;\">\n      <th></th>\n      <th>text</th>\n      <th>label</th>\n      <th>span</th>\n    </tr>\n    <tr>\n      <th>idx</th>\n      <th></th>\n      <th></th>\n      <th></th>\n    </tr>\n  </thead>\n  <tbody>\n    <tr>\n      <th>a692168b-ae0c-4641-9997-6cc7e0471aba</th>\n      <td>Masken im Flüchtlingslager</td>\n      <td>corona</td>\n      <td>[0, 5]</td>\n    </tr>\n    <tr>\n      <th>f7d4a734-d40a-4264-98ff-8ff7216c7097</th>\n      <td>Star Wars Masken Basteln Vorlagen Star Wars Ma...</td>\n      <td>web1</td>\n      <td>[10, 15]</td>\n    </tr>\n    <tr>\n      <th>b4ec27ff-d36f-44e2-8619-d0e383d054b3</th>\n      <td>Ganz frisch aus der Recherche, möchte ich hier...</td>\n      <td>web1</td>\n      <td>[91, 96]</td>\n    </tr>\n    <tr>\n      <th>2801fbec-6f32-40ed-8128-a7ca642d425f</th>\n      <td>Mareo öffnete die Augen und sah eine Gestalt d...</td>\n      <td>web2</td>\n      <td>[63, 68]</td>\n    </tr>\n    <tr>\n      <th>85617ff0-a3a2-4318-a780-a061935944d1</th>\n      <td>„85 Prozent der Menschen, die eine Maske trage...</td>\n      <td>corona</td>\n      <td>[35, 40]</td>\n    </tr>\n    <tr>\n      <th>...</th>\n      <td>...</td>\n      <td>...</td>\n      <td>...</td>\n    </tr>\n    <tr>\n      <th>0edcbda2-20dc-419b-b6c2-9011563fbfab</th>\n      <td>Sie holt mich von der Arbeit ab, wir fahren zu...</td>\n      <td>corona</td>\n      <td>[79, 84]</td>\n    </tr>\n    <tr>\n      <th>f9b88985-e57a-4cce-866c-fab8fe6c6b4e</th>\n      <td>( Empfehlung: Hals Decollte, bei Stauungen Lym...</td>\n      <td>web2</td>\n      <td>[82, 87]</td>\n    </tr>\n    <tr>\n      <th>19a0eb4f-f831-494c-b306-8e7cdf9a5d6f</th>\n      <td>Die Polizeisprecherin sagte, wenn die Abstands...</td>\n      <td>corona</td>\n      <td>[91, 96]</td>\n    </tr>\n    <tr>\n      <th>5eaf7be6-58bd-4204-b425-efa1ea671073</th>\n      <td>Was mich am meisten beindruckte, war seine Beo...</td>\n      <td>web1</td>\n      <td>[127, 132]</td>\n    </tr>\n    <tr>\n      <th>260af094-9d26-44ac-9ff0-2e860ed01739</th>\n      <td>Das enthaltene Vitamin C garantiert den Zellen...</td>\n      <td>web1</td>\n      <td>[108, 113]</td>\n    </tr>\n  </tbody>\n</table>\n<p>1000 rows × 3 columns</p>\n</div>"
     },
     "execution_count": 5,
     "metadata": {},
     "output_type": "execute_result"
    }
   ],
   "source": [
    "raw: pd.DataFrame = (\n",
    "    pd.read_csv(\n",
    "        RAW_DATA_PATH,\n",
    "        skiprows=[1],\n",
    "        index_col=[0],\n",
    "        dtype={\n",
    "            'text': 'string',\n",
    "            'label': 'category'\n",
    "        },\n",
    "        converters={\n",
    "            'span': ast.literal_eval\n",
    "        }\n",
    "    )\n",
    "    .rename_axis('idx')\n",
    "    .sample(SAMPLE_SIZE)\n",
    ")\n",
    "raw"
   ],
   "metadata": {
    "collapsed": false,
    "ExecuteTime": {
     "end_time": "2024-02-01T15:09:34.148131Z",
     "start_time": "2024-02-01T15:09:33.785289Z"
    }
   },
   "id": "ca4e997b49dd0847"
  },
  {
   "cell_type": "code",
   "execution_count": 6,
   "outputs": [
    {
     "data": {
      "text/plain": "text     string[python]\nlabel          category\nspan             object\ndtype: object"
     },
     "execution_count": 6,
     "metadata": {},
     "output_type": "execute_result"
    }
   ],
   "source": [
    "raw.dtypes"
   ],
   "metadata": {
    "collapsed": false,
    "ExecuteTime": {
     "end_time": "2024-02-01T15:09:35.735197Z",
     "start_time": "2024-02-01T15:09:35.695190Z"
    }
   },
   "id": "1bdab062c3ce15d3"
  },
  {
   "cell_type": "code",
   "execution_count": 7,
   "outputs": [
    {
     "data": {
      "text/plain": "['corona', 'web1', 'web2']\nCategories (3, object): ['corona', 'web1', 'web2']"
     },
     "execution_count": 7,
     "metadata": {},
     "output_type": "execute_result"
    }
   ],
   "source": [
    "raw.label.unique()"
   ],
   "metadata": {
    "collapsed": false,
    "ExecuteTime": {
     "end_time": "2024-02-01T15:09:36.489283Z",
     "start_time": "2024-02-01T15:09:36.450857Z"
    }
   },
   "id": "2212615af7dc67f4"
  },
  {
   "cell_type": "code",
   "execution_count": 8,
   "outputs": [
    {
     "data": {
      "text/plain": "label\nweb2      345\ncorona    329\nweb1      326\nName: count, dtype: int64"
     },
     "execution_count": 8,
     "metadata": {},
     "output_type": "execute_result"
    }
   ],
   "source": [
    "raw.label.value_counts()"
   ],
   "metadata": {
    "collapsed": false,
    "ExecuteTime": {
     "end_time": "2024-02-01T15:09:37.569183Z",
     "start_time": "2024-02-01T15:09:37.531226Z"
    }
   },
   "id": "3089acca343decb1"
  },
  {
   "cell_type": "code",
   "execution_count": 9,
   "outputs": [
    {
     "data": {
      "text/plain": "Maske    1000\nName: count, dtype: int64"
     },
     "execution_count": 9,
     "metadata": {},
     "output_type": "execute_result"
    }
   ],
   "source": [
    "(\n",
    "    raw\n",
    "    .apply(lambda row: row.text[row.span[0]:row.span[1]], axis=1)\n",
    "    .value_counts()\n",
    ")"
   ],
   "metadata": {
    "collapsed": false,
    "ExecuteTime": {
     "end_time": "2024-02-01T15:09:38.989486Z",
     "start_time": "2024-02-01T15:09:38.965147Z"
    }
   },
   "id": "16be57b40139dc22"
  },
  {
   "cell_type": "code",
   "execution_count": 10,
   "outputs": [],
   "source": [
    "train_split = raw.sample(\n",
    "    frac=TRAIN_SPLIT, \n",
    "    random_state=RANDOM_STATE\n",
    ")\n",
    "train_split.to_parquet(f'{EXPORTED_DATA_PATH}/train.parquet')"
   ],
   "metadata": {
    "collapsed": false,
    "ExecuteTime": {
     "end_time": "2024-02-01T15:09:40.204304Z",
     "start_time": "2024-02-01T15:09:39.853401Z"
    }
   },
   "id": "a646f9b55fbd7807"
  },
  {
   "cell_type": "code",
   "execution_count": 11,
   "outputs": [],
   "source": [
    "test_split = raw.loc[\n",
    "    raw.index.difference(train_split.index)\n",
    "]\n",
    "test_split.to_parquet(f'{EXPORTED_DATA_PATH}/test.parquet')"
   ],
   "metadata": {
    "collapsed": false,
    "ExecuteTime": {
     "end_time": "2024-02-01T15:09:41.504002Z",
     "start_time": "2024-02-01T15:09:41.469644Z"
    }
   },
   "id": "23f3871230198509"
  },
  {
   "cell_type": "code",
   "execution_count": null,
   "outputs": [],
   "source": [],
   "metadata": {
    "collapsed": false
   },
   "id": "8f80709a52a9fde2"
  }
 ],
 "metadata": {
  "kernelspec": {
   "display_name": "Python 3",
   "language": "python",
   "name": "python3"
  },
  "language_info": {
   "codemirror_mode": {
    "name": "ipython",
    "version": 2
   },
   "file_extension": ".py",
   "mimetype": "text/x-python",
   "name": "python",
   "nbconvert_exporter": "python",
   "pygments_lexer": "ipython2",
   "version": "2.7.6"
  }
 },
 "nbformat": 4,
 "nbformat_minor": 5
}

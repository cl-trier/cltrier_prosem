{
 "cells": [
  {
   "cell_type": "code",
   "execution_count": 2,
   "id": "initial_id",
   "metadata": {
    "collapsed": true,
    "ExecuteTime": {
     "end_time": "2023-12-22T08:50:24.214971Z",
     "start_time": "2023-12-22T08:50:24.131015Z"
    }
   },
   "outputs": [],
   "source": [
    "import pandas as pd\n",
    "import ast"
   ]
  },
  {
   "cell_type": "code",
   "execution_count": 3,
   "outputs": [],
   "source": [
    "RAW_DATA_PATH: str = 'data/dataset.raw.csv'\n",
    "EXPORTED_DATA_PATH: str = 'data/dataset'\n",
    "\n",
    "TRAIN_SPLIT: float = 0.8\n",
    "RANDOM_STATE: int = 42"
   ],
   "metadata": {
    "collapsed": false,
    "ExecuteTime": {
     "end_time": "2023-12-22T08:50:24.543980Z",
     "start_time": "2023-12-22T08:50:24.501215Z"
    }
   },
   "id": "27616bcd6b21adc3"
  },
  {
   "cell_type": "code",
   "execution_count": 4,
   "outputs": [
    {
     "data": {
      "text/plain": "                                                                                   text  \\\nidx                                                                                       \nc4f6dccf-dc39-40cc-a6c0-1eeec9fc0ab5  Diese Maske ist nicht nur für medizinisches Pe...   \nf6310dbb-e8fa-499c-9835-a85daf81bdda  Je nach Antwort auf diese Frage sind die Mensc...   \n2ffbedf4-b35a-4234-bacf-cba2dd6154d2  Man trägt halt eine Maske, hält Distanz, und d...   \nedae875f-1bbc-449c-b706-b983ed261b63  Ein Link führt zum Webshop, dort kostet die Pa...   \n6e27b81a-c66f-4ea6-982b-b844a428db2c  „Ich bin da sehr dankbar, wenn Bußgelder verhä...   \n...                                                                                 ...   \na77612b9-19ba-461a-a9b3-955b447d4723          Nach Apfel riecht die Maske jedoch nicht.   \nda99e86c-b2ce-41e2-98ec-53e812262d9f  1. Wasche Dein Haar mit einem geeigneten Shamp...   \n7eb73a31-0b09-4286-913e-48861a4f97cd                Die Lieferung beinhaltet 10 Masken.   \n7925fc7a-ef7c-4de1-ac38-3bdeb1ab2b32          Die Maske als Zeichen der Selbstlosigkeit   \nc4201155-5258-4d8c-8baf-e9c5d38c476c  Eine Tragetasche, die zum Gerät gehörenden Luf...   \n\n                                       label        span  \nidx                                                       \nc4f6dccf-dc39-40cc-a6c0-1eeec9fc0ab5  corona     [6, 11]  \nf6310dbb-e8fa-499c-9835-a85daf81bdda  corona  [115, 120]  \n2ffbedf4-b35a-4234-bacf-cba2dd6154d2  corona    [20, 25]  \nedae875f-1bbc-449c-b706-b983ed261b63  corona    [60, 65]  \n6e27b81a-c66f-4ea6-982b-b844a428db2c  corona    [86, 91]  \n...                                      ...         ...  \na77612b9-19ba-461a-a9b3-955b447d4723    web1    [22, 27]  \nda99e86c-b2ce-41e2-98ec-53e812262d9f    web1  [101, 106]  \n7eb73a31-0b09-4286-913e-48861a4f97cd    web1    [28, 33]  \n7925fc7a-ef7c-4de1-ac38-3bdeb1ab2b32    web1      [4, 9]  \nc4201155-5258-4d8c-8baf-e9c5d38c476c    web1  [209, 214]  \n\n[14784 rows x 3 columns]",
      "text/html": "<div>\n<style scoped>\n    .dataframe tbody tr th:only-of-type {\n        vertical-align: middle;\n    }\n\n    .dataframe tbody tr th {\n        vertical-align: top;\n    }\n\n    .dataframe thead th {\n        text-align: right;\n    }\n</style>\n<table border=\"1\" class=\"dataframe\">\n  <thead>\n    <tr style=\"text-align: right;\">\n      <th></th>\n      <th>text</th>\n      <th>label</th>\n      <th>span</th>\n    </tr>\n    <tr>\n      <th>idx</th>\n      <th></th>\n      <th></th>\n      <th></th>\n    </tr>\n  </thead>\n  <tbody>\n    <tr>\n      <th>c4f6dccf-dc39-40cc-a6c0-1eeec9fc0ab5</th>\n      <td>Diese Maske ist nicht nur für medizinisches Pe...</td>\n      <td>corona</td>\n      <td>[6, 11]</td>\n    </tr>\n    <tr>\n      <th>f6310dbb-e8fa-499c-9835-a85daf81bdda</th>\n      <td>Je nach Antwort auf diese Frage sind die Mensc...</td>\n      <td>corona</td>\n      <td>[115, 120]</td>\n    </tr>\n    <tr>\n      <th>2ffbedf4-b35a-4234-bacf-cba2dd6154d2</th>\n      <td>Man trägt halt eine Maske, hält Distanz, und d...</td>\n      <td>corona</td>\n      <td>[20, 25]</td>\n    </tr>\n    <tr>\n      <th>edae875f-1bbc-449c-b706-b983ed261b63</th>\n      <td>Ein Link führt zum Webshop, dort kostet die Pa...</td>\n      <td>corona</td>\n      <td>[60, 65]</td>\n    </tr>\n    <tr>\n      <th>6e27b81a-c66f-4ea6-982b-b844a428db2c</th>\n      <td>„Ich bin da sehr dankbar, wenn Bußgelder verhä...</td>\n      <td>corona</td>\n      <td>[86, 91]</td>\n    </tr>\n    <tr>\n      <th>...</th>\n      <td>...</td>\n      <td>...</td>\n      <td>...</td>\n    </tr>\n    <tr>\n      <th>a77612b9-19ba-461a-a9b3-955b447d4723</th>\n      <td>Nach Apfel riecht die Maske jedoch nicht.</td>\n      <td>web1</td>\n      <td>[22, 27]</td>\n    </tr>\n    <tr>\n      <th>da99e86c-b2ce-41e2-98ec-53e812262d9f</th>\n      <td>1. Wasche Dein Haar mit einem geeigneten Shamp...</td>\n      <td>web1</td>\n      <td>[101, 106]</td>\n    </tr>\n    <tr>\n      <th>7eb73a31-0b09-4286-913e-48861a4f97cd</th>\n      <td>Die Lieferung beinhaltet 10 Masken.</td>\n      <td>web1</td>\n      <td>[28, 33]</td>\n    </tr>\n    <tr>\n      <th>7925fc7a-ef7c-4de1-ac38-3bdeb1ab2b32</th>\n      <td>Die Maske als Zeichen der Selbstlosigkeit</td>\n      <td>web1</td>\n      <td>[4, 9]</td>\n    </tr>\n    <tr>\n      <th>c4201155-5258-4d8c-8baf-e9c5d38c476c</th>\n      <td>Eine Tragetasche, die zum Gerät gehörenden Luf...</td>\n      <td>web1</td>\n      <td>[209, 214]</td>\n    </tr>\n  </tbody>\n</table>\n<p>14784 rows × 3 columns</p>\n</div>"
     },
     "execution_count": 4,
     "metadata": {},
     "output_type": "execute_result"
    }
   ],
   "source": [
    "raw: pd.DataFrame = (\n",
    "    pd.read_csv(\n",
    "        RAW_DATA_PATH,\n",
    "        skiprows=[1],\n",
    "        index_col=[0],\n",
    "        dtype={\n",
    "            'text': 'string',\n",
    "            'label': 'category'\n",
    "        },\n",
    "        converters={\n",
    "            'span': ast.literal_eval\n",
    "        }\n",
    "    )\n",
    "    .rename_axis('idx')\n",
    ")\n",
    "raw"
   ],
   "metadata": {
    "collapsed": false,
    "ExecuteTime": {
     "end_time": "2023-12-22T08:50:25.501138Z",
     "start_time": "2023-12-22T08:50:25.147853Z"
    }
   },
   "id": "ca4e997b49dd0847"
  },
  {
   "cell_type": "code",
   "execution_count": 5,
   "outputs": [
    {
     "data": {
      "text/plain": "text     string[python]\nlabel          category\nspan             object\ndtype: object"
     },
     "execution_count": 5,
     "metadata": {},
     "output_type": "execute_result"
    }
   ],
   "source": [
    "raw.dtypes"
   ],
   "metadata": {
    "collapsed": false,
    "ExecuteTime": {
     "end_time": "2023-12-22T08:50:26.646109Z",
     "start_time": "2023-12-22T08:50:26.598169Z"
    }
   },
   "id": "1bdab062c3ce15d3"
  },
  {
   "cell_type": "code",
   "execution_count": 6,
   "outputs": [
    {
     "data": {
      "text/plain": "['corona', 'web2', 'web1']\nCategories (3, object): ['corona', 'web1', 'web2']"
     },
     "execution_count": 6,
     "metadata": {},
     "output_type": "execute_result"
    }
   ],
   "source": [
    "raw.label.unique()"
   ],
   "metadata": {
    "collapsed": false,
    "ExecuteTime": {
     "end_time": "2023-12-22T08:50:27.635293Z",
     "start_time": "2023-12-22T08:50:27.565155Z"
    }
   },
   "id": "2212615af7dc67f4"
  },
  {
   "cell_type": "code",
   "execution_count": 7,
   "outputs": [
    {
     "data": {
      "text/plain": "label\ncorona    4983\nweb1      4928\nweb2      4873\nName: count, dtype: int64"
     },
     "execution_count": 7,
     "metadata": {},
     "output_type": "execute_result"
    }
   ],
   "source": [
    "raw.label.value_counts()"
   ],
   "metadata": {
    "collapsed": false,
    "ExecuteTime": {
     "end_time": "2023-12-22T08:50:28.200451Z",
     "start_time": "2023-12-22T08:50:28.132560Z"
    }
   },
   "id": "3089acca343decb1"
  },
  {
   "cell_type": "code",
   "execution_count": 11,
   "outputs": [
    {
     "data": {
      "text/plain": "Maske    14784\nName: count, dtype: int64"
     },
     "execution_count": 11,
     "metadata": {},
     "output_type": "execute_result"
    }
   ],
   "source": [
    "(\n",
    "    raw\n",
    "    .apply(lambda row: row.text[row.span[0]:row.span[1]], axis=1)\n",
    "    .value_counts()\n",
    ")"
   ],
   "metadata": {
    "collapsed": false,
    "ExecuteTime": {
     "end_time": "2023-12-22T09:04:28.749032Z",
     "start_time": "2023-12-22T09:04:28.418699Z"
    }
   },
   "id": "16be57b40139dc22"
  },
  {
   "cell_type": "code",
   "execution_count": 8,
   "outputs": [],
   "source": [
    "train_split = raw.sample(\n",
    "    frac=TRAIN_SPLIT, \n",
    "    random_state=RANDOM_STATE\n",
    ")\n",
    "train_split.to_parquet(f'{EXPORTED_DATA_PATH}/train.parquet')"
   ],
   "metadata": {
    "collapsed": false,
    "ExecuteTime": {
     "end_time": "2023-12-22T08:50:28.995616Z",
     "start_time": "2023-12-22T08:50:28.925534Z"
    }
   },
   "id": "a646f9b55fbd7807"
  },
  {
   "cell_type": "code",
   "execution_count": 9,
   "outputs": [],
   "source": [
    "test_split = raw.loc[\n",
    "    raw.index.difference(train_split.index)\n",
    "]\n",
    "test_split.to_parquet(f'{EXPORTED_DATA_PATH}/test.parquet')"
   ],
   "metadata": {
    "collapsed": false,
    "ExecuteTime": {
     "end_time": "2023-12-22T08:50:29.532524Z",
     "start_time": "2023-12-22T08:50:29.474185Z"
    }
   },
   "id": "23f3871230198509"
  },
  {
   "cell_type": "code",
   "execution_count": null,
   "outputs": [],
   "source": [],
   "metadata": {
    "collapsed": false
   },
   "id": "8f80709a52a9fde2"
  }
 ],
 "metadata": {
  "kernelspec": {
   "display_name": "Python 3",
   "language": "python",
   "name": "python3"
  },
  "language_info": {
   "codemirror_mode": {
    "name": "ipython",
    "version": 2
   },
   "file_extension": ".py",
   "mimetype": "text/x-python",
   "name": "python",
   "nbconvert_exporter": "python",
   "pygments_lexer": "ipython2",
   "version": "2.7.6"
  }
 },
 "nbformat": 4,
 "nbformat_minor": 5
}

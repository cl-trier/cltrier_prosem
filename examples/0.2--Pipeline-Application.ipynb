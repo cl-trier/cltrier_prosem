{
 "cells": [
  {
   "cell_type": "code",
   "execution_count": 1,
   "outputs": [],
   "source": [
    "from cltrier_prosem import Pipeline"
   ],
   "metadata": {
    "collapsed": false,
    "ExecuteTime": {
     "end_time": "2023-12-22T08:50:39.455378Z",
     "start_time": "2023-12-22T08:50:33.519523Z"
    }
   },
   "id": "d228a31725adcfc0"
  },
  {
   "cell_type": "code",
   "execution_count": 5,
   "outputs": [
    {
     "name": "stderr",
     "output_type": "stream",
     "text": [
      "[--- LOAD ENCODER ---]\n",
      "> Encoder Name: deepset/gbert-base\n",
      "  Memory Usage: 419.3486 MB\n",
      "> f(__init__) took: 1.3918 sec\n",
      "[--- LOAD TRAINER ---]\n",
      "> Dataset: train\n",
      "  Samples: 9889\n",
      "> Dataset: test\n",
      "  Samples: 1259\n",
      "> Model: Multilayer perceptron\n",
      "  Memory Usage: 1.5254 MB \n",
      "  (0): Linear(in_features=768, out_features=512, bias=True)\n",
      "  (1): Dropout(p=0.2, inplace=False)\n",
      "  (2): LeakyReLU(negative_slope=0.01)\n",
      "  (3): Linear(in_features=512, out_features=12, bias=True)\n",
      "\n"
     ]
    }
   ],
   "source": [
    "pipeline = Pipeline({\n",
    "    'encoder': {\n",
    "        'model': 'deepset/gbert-base',\n",
    "    },\n",
    "    'dataset': {\n",
    "        'path': './data/dataset',\n",
    "        'text_column': 'text',\n",
    "        'label_column': 'label',\n",
    "        'label_classes': ['corona', 'web1', 'web2'],\n",
    "    },\n",
    "    'classifier': {\n",
    "        'hid_size': 512,\n",
    "        'dropout': 0.2,\n",
    "    },\n",
    "    'pooler': {\n",
    "        'form': 'cls',\n",
    "        'span_column': 'span'\n",
    "    },\n",
    "    'trainer': {\n",
    "        'num_epochs': 5,\n",
    "        'batch_size': 32,\n",
    "        'learning_rate': 1e-3,\n",
    "        'export_path': '/results',\n",
    "    }\n",
    "})"
   ],
   "metadata": {
    "collapsed": false,
    "ExecuteTime": {
     "end_time": "2023-11-13T15:39:42.859911Z",
     "start_time": "2023-11-13T15:39:41.384466Z"
    }
   },
   "id": "1a0bfc94c2409527"
  },
  {
   "cell_type": "code",
   "execution_count": 6,
   "outputs": [
    {
     "name": "stderr",
     "output_type": "stream",
     "text": [
      "[--- RUN TRAINER ---]\n",
      "Warning: Training interrupted by user, skipping to evaluation if possible.\n"
     ]
    }
   ],
   "source": [
    "pipeline()"
   ],
   "metadata": {
    "collapsed": false,
    "ExecuteTime": {
     "end_time": "2023-11-13T15:39:47.767734Z",
     "start_time": "2023-11-13T15:39:42.860685Z"
    }
   },
   "id": "5c10430ae17d7c28"
  },
  {
   "cell_type": "code",
   "execution_count": 6,
   "outputs": [],
   "source": [],
   "metadata": {
    "collapsed": false,
    "ExecuteTime": {
     "end_time": "2023-11-13T15:39:47.775420Z",
     "start_time": "2023-11-13T15:39:47.767327Z"
    }
   },
   "id": "820116d505c73227"
  }
 ],
 "metadata": {
  "kernelspec": {
   "display_name": "Python 3",
   "language": "python",
   "name": "python3"
  },
  "language_info": {
   "codemirror_mode": {
    "name": "ipython",
    "version": 2
   },
   "file_extension": ".py",
   "mimetype": "text/x-python",
   "name": "python",
   "nbconvert_exporter": "python",
   "pygments_lexer": "ipython2",
   "version": "2.7.6"
  }
 },
 "nbformat": 4,
 "nbformat_minor": 5
}

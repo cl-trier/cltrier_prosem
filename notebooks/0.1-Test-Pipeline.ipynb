{
 "cells": [
  {
   "cell_type": "code",
   "execution_count": 1,
   "id": "initial_id",
   "metadata": {
    "collapsed": true,
    "ExecuteTime": {
     "end_time": "2023-11-13T14:07:55.966200Z",
     "start_time": "2023-11-13T14:07:55.956777Z"
    }
   },
   "outputs": [],
   "source": [
    " # add additional module import path to import the desired function from the classifier module\n",
    "# https://stackoverflow.com/questions/34478398/import-local-function-from-a-module-housed-in-another-directory-with-relative-im#answer-35273613\n",
    "import os\n",
    "import sys\n",
    "\n",
    "module_path = os.path.abspath(os.path.join('..'))\n",
    "\n",
    "if module_path not in sys.path:\n",
    "    sys.path.append(module_path)"
   ]
  },
  {
   "cell_type": "code",
   "execution_count": 2,
   "outputs": [],
   "source": [
    "from src.cltrier_prosem import Pipeline"
   ],
   "metadata": {
    "collapsed": false,
    "ExecuteTime": {
     "end_time": "2023-11-13T14:08:02.246153Z",
     "start_time": "2023-11-13T14:07:56.162206Z"
    }
   },
   "id": "30f7c01ef79f937"
  },
  {
   "cell_type": "code",
   "execution_count": 11,
   "outputs": [],
   "source": [
    "pipeline = Pipeline({\n",
    "    'encoder': {\n",
    "        'model': 'deepset/gbert-base',\n",
    "    },\n",
    "    'dataset': {\n",
    "        'path': '../tests/data',\n",
    "        'text_column': 'text',\n",
    "        'label_column': 'label',\n",
    "        'label_classes': [\n",
    "            '1901-1910', '1911-1920', '1921-1930', '1931-1940',\n",
    "            '1941-1950', '1951-1960', '1961-1970', '1971-1980',\n",
    "            '1981-1990', '1991-2000', '2001-2010', '2011-2018',\n",
    "        ],\n",
    "    },\n",
    "    'classifier': {\n",
    "        'hid_size': 512,\n",
    "        'dropout': 0.2,\n",
    "    },\n",
    "    'pooler': {\n",
    "        'form': 'cls'\n",
    "    },\n",
    "    'trainer': {\n",
    "        'num_epochs': 5,\n",
    "        'batch_size': 32,\n",
    "        'learning_rate': 1e-3,\n",
    "        'export_path': '../tests/',\n",
    "    }\n",
    "})"
   ],
   "metadata": {
    "collapsed": false,
    "ExecuteTime": {
     "end_time": "2023-11-13T14:27:03.084752Z",
     "start_time": "2023-11-13T14:27:00.861547Z"
    }
   },
   "id": "1a0bfc94c2409527"
  },
  {
   "cell_type": "code",
   "execution_count": 12,
   "outputs": [
    {
     "name": "stderr",
     "output_type": "stream",
     "text": [
      "  0%|          | 0/309 [00:00<?, ?it/s]/Users/simon/Repositories/__cltrier__/cltrier-prosem/src/cltrier_prosem/metric.py:15: FutureWarning: The behavior of array concatenation with empty entries is deprecated. In a future version, this will no longer exclude empty items when determining the result dtype. To retain the old behavior, exclude the empty entries before the concat operation.\n",
      "  self.golds = pd.concat([self.golds, golds], ignore_index=True)\n",
      "/Users/simon/Repositories/__cltrier__/cltrier-prosem/src/cltrier_prosem/metric.py:16: FutureWarning: The behavior of array concatenation with empty entries is deprecated. In a future version, this will no longer exclude empty items when determining the result dtype. To retain the old behavior, exclude the empty entries before the concat operation.\n",
      "  self.preds = pd.concat([self.preds, preds], ignore_index=True)\n",
      "WARNING:root:Warning: Training interrupted by user, skipping to evaluation if possible.\n"
     ]
    }
   ],
   "source": [
    "pipeline()"
   ],
   "metadata": {
    "collapsed": false,
    "ExecuteTime": {
     "end_time": "2023-11-13T14:27:59.334545Z",
     "start_time": "2023-11-13T14:27:10.085471Z"
    }
   },
   "id": "5c10430ae17d7c28"
  },
  {
   "cell_type": "code",
   "execution_count": null,
   "outputs": [],
   "source": [],
   "metadata": {
    "collapsed": false
   },
   "id": "820116d505c73227"
  }
 ],
 "metadata": {
  "kernelspec": {
   "display_name": "Python 3",
   "language": "python",
   "name": "python3"
  },
  "language_info": {
   "codemirror_mode": {
    "name": "ipython",
    "version": 2
   },
   "file_extension": ".py",
   "mimetype": "text/x-python",
   "name": "python",
   "nbconvert_exporter": "python",
   "pygments_lexer": "ipython2",
   "version": "2.7.6"
  }
 },
 "nbformat": 4,
 "nbformat_minor": 5
}
